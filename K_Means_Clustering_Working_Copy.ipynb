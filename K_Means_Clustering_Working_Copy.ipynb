{
  "nbformat": 4,
  "nbformat_minor": 0,
  "metadata": {
    "colab": {
      "provenance": [],
      "include_colab_link": true
    },
    "kernelspec": {
      "name": "python3",
      "display_name": "Python 3"
    }
  },
  "cells": [
    {
      "cell_type": "markdown",
      "metadata": {
        "id": "view-in-github",
        "colab_type": "text"
      },
      "source": [
        "<a href=\"https://colab.research.google.com/github/Ruksar56/AMAZON_USER_SEGMENTATION/blob/main/K_Means_Clustering_Working_Copy.ipynb\" target=\"_parent\"><img src=\"https://colab.research.google.com/assets/colab-badge.svg\" alt=\"Open In Colab\"/></a>"
      ]
    },
    {
      "cell_type": "markdown",
      "metadata": {
        "id": "Z-jZGC0q0aiY"
      },
      "source": [
        "# K Means Clustering"
      ]
    },
    {
      "cell_type": "markdown",
      "metadata": {
        "id": "jE4Rc_OO0eJM"
      },
      "source": [
        "## Importing libraries"
      ]
    },
    {
      "cell_type": "code",
      "metadata": {
        "id": "Mdu36Q6YU-HX"
      },
      "source": [
        "import numpy as np\n",
        "import matplotlib.pyplot as plt\n",
        "import pandas as pd"
      ],
      "execution_count": 17,
      "outputs": []
    },
    {
      "cell_type": "markdown",
      "metadata": {
        "id": "A9-xGHd20gY1"
      },
      "source": [
        "## Importing dataset"
      ]
    },
    {
      "cell_type": "code",
      "metadata": {
        "id": "fLojxKFZU_wb"
      },
      "source": [
        "dataset = pd.read_csv('/content/Amazon dataset.csv')\n"
      ],
      "execution_count": 18,
      "outputs": []
    },
    {
      "cell_type": "code",
      "source": [
        "dataset.head()"
      ],
      "metadata": {
        "colab": {
          "base_uri": "https://localhost:8080/",
          "height": 206
        },
        "id": "QeE5EfH6ec5f",
        "outputId": "eedae15b-f281-41c5-e29a-5b41aa7947d0"
      },
      "execution_count": 19,
      "outputs": [
        {
          "output_type": "execute_result",
          "data": {
            "text/plain": [
              "   Cus_ID Sex  Age  Income  Rating\n",
              "0  301219   M   23  306555      44\n",
              "1  301220   F   26  306555      91\n",
              "2  301221   F   24  326992       7\n",
              "3  301222   M   28  326992      87\n",
              "4  301223   F   38  347429      45"
            ],
            "text/html": [
              "\n",
              "  <div id=\"df-e4c1f76d-cae2-40d5-831a-a8963dcfad90\">\n",
              "    <div class=\"colab-df-container\">\n",
              "      <div>\n",
              "<style scoped>\n",
              "    .dataframe tbody tr th:only-of-type {\n",
              "        vertical-align: middle;\n",
              "    }\n",
              "\n",
              "    .dataframe tbody tr th {\n",
              "        vertical-align: top;\n",
              "    }\n",
              "\n",
              "    .dataframe thead th {\n",
              "        text-align: right;\n",
              "    }\n",
              "</style>\n",
              "<table border=\"1\" class=\"dataframe\">\n",
              "  <thead>\n",
              "    <tr style=\"text-align: right;\">\n",
              "      <th></th>\n",
              "      <th>Cus_ID</th>\n",
              "      <th>Sex</th>\n",
              "      <th>Age</th>\n",
              "      <th>Income</th>\n",
              "      <th>Rating</th>\n",
              "    </tr>\n",
              "  </thead>\n",
              "  <tbody>\n",
              "    <tr>\n",
              "      <th>0</th>\n",
              "      <td>301219</td>\n",
              "      <td>M</td>\n",
              "      <td>23</td>\n",
              "      <td>306555</td>\n",
              "      <td>44</td>\n",
              "    </tr>\n",
              "    <tr>\n",
              "      <th>1</th>\n",
              "      <td>301220</td>\n",
              "      <td>F</td>\n",
              "      <td>26</td>\n",
              "      <td>306555</td>\n",
              "      <td>91</td>\n",
              "    </tr>\n",
              "    <tr>\n",
              "      <th>2</th>\n",
              "      <td>301221</td>\n",
              "      <td>F</td>\n",
              "      <td>24</td>\n",
              "      <td>326992</td>\n",
              "      <td>7</td>\n",
              "    </tr>\n",
              "    <tr>\n",
              "      <th>3</th>\n",
              "      <td>301222</td>\n",
              "      <td>M</td>\n",
              "      <td>28</td>\n",
              "      <td>326992</td>\n",
              "      <td>87</td>\n",
              "    </tr>\n",
              "    <tr>\n",
              "      <th>4</th>\n",
              "      <td>301223</td>\n",
              "      <td>F</td>\n",
              "      <td>38</td>\n",
              "      <td>347429</td>\n",
              "      <td>45</td>\n",
              "    </tr>\n",
              "  </tbody>\n",
              "</table>\n",
              "</div>\n",
              "      <button class=\"colab-df-convert\" onclick=\"convertToInteractive('df-e4c1f76d-cae2-40d5-831a-a8963dcfad90')\"\n",
              "              title=\"Convert this dataframe to an interactive table.\"\n",
              "              style=\"display:none;\">\n",
              "        \n",
              "  <svg xmlns=\"http://www.w3.org/2000/svg\" height=\"24px\"viewBox=\"0 0 24 24\"\n",
              "       width=\"24px\">\n",
              "    <path d=\"M0 0h24v24H0V0z\" fill=\"none\"/>\n",
              "    <path d=\"M18.56 5.44l.94 2.06.94-2.06 2.06-.94-2.06-.94-.94-2.06-.94 2.06-2.06.94zm-11 1L8.5 8.5l.94-2.06 2.06-.94-2.06-.94L8.5 2.5l-.94 2.06-2.06.94zm10 10l.94 2.06.94-2.06 2.06-.94-2.06-.94-.94-2.06-.94 2.06-2.06.94z\"/><path d=\"M17.41 7.96l-1.37-1.37c-.4-.4-.92-.59-1.43-.59-.52 0-1.04.2-1.43.59L10.3 9.45l-7.72 7.72c-.78.78-.78 2.05 0 2.83L4 21.41c.39.39.9.59 1.41.59.51 0 1.02-.2 1.41-.59l7.78-7.78 2.81-2.81c.8-.78.8-2.07 0-2.86zM5.41 20L4 18.59l7.72-7.72 1.47 1.35L5.41 20z\"/>\n",
              "  </svg>\n",
              "      </button>\n",
              "      \n",
              "  <style>\n",
              "    .colab-df-container {\n",
              "      display:flex;\n",
              "      flex-wrap:wrap;\n",
              "      gap: 12px;\n",
              "    }\n",
              "\n",
              "    .colab-df-convert {\n",
              "      background-color: #E8F0FE;\n",
              "      border: none;\n",
              "      border-radius: 50%;\n",
              "      cursor: pointer;\n",
              "      display: none;\n",
              "      fill: #1967D2;\n",
              "      height: 32px;\n",
              "      padding: 0 0 0 0;\n",
              "      width: 32px;\n",
              "    }\n",
              "\n",
              "    .colab-df-convert:hover {\n",
              "      background-color: #E2EBFA;\n",
              "      box-shadow: 0px 1px 2px rgba(60, 64, 67, 0.3), 0px 1px 3px 1px rgba(60, 64, 67, 0.15);\n",
              "      fill: #174EA6;\n",
              "    }\n",
              "\n",
              "    [theme=dark] .colab-df-convert {\n",
              "      background-color: #3B4455;\n",
              "      fill: #D2E3FC;\n",
              "    }\n",
              "\n",
              "    [theme=dark] .colab-df-convert:hover {\n",
              "      background-color: #434B5C;\n",
              "      box-shadow: 0px 1px 3px 1px rgba(0, 0, 0, 0.15);\n",
              "      filter: drop-shadow(0px 1px 2px rgba(0, 0, 0, 0.3));\n",
              "      fill: #FFFFFF;\n",
              "    }\n",
              "  </style>\n",
              "\n",
              "      <script>\n",
              "        const buttonEl =\n",
              "          document.querySelector('#df-e4c1f76d-cae2-40d5-831a-a8963dcfad90 button.colab-df-convert');\n",
              "        buttonEl.style.display =\n",
              "          google.colab.kernel.accessAllowed ? 'block' : 'none';\n",
              "\n",
              "        async function convertToInteractive(key) {\n",
              "          const element = document.querySelector('#df-e4c1f76d-cae2-40d5-831a-a8963dcfad90');\n",
              "          const dataTable =\n",
              "            await google.colab.kernel.invokeFunction('convertToInteractive',\n",
              "                                                     [key], {});\n",
              "          if (!dataTable) return;\n",
              "\n",
              "          const docLinkHtml = 'Like what you see? Visit the ' +\n",
              "            '<a target=\"_blank\" href=https://colab.research.google.com/notebooks/data_table.ipynb>data table notebook</a>'\n",
              "            + ' to learn more about interactive tables.';\n",
              "          element.innerHTML = '';\n",
              "          dataTable['output_type'] = 'display_data';\n",
              "          await google.colab.output.renderOutput(dataTable, element);\n",
              "          const docLink = document.createElement('div');\n",
              "          docLink.innerHTML = docLinkHtml;\n",
              "          element.appendChild(docLink);\n",
              "        }\n",
              "      </script>\n",
              "    </div>\n",
              "  </div>\n",
              "  "
            ]
          },
          "metadata": {},
          "execution_count": 19
        }
      ]
    },
    {
      "cell_type": "code",
      "source": [
        "dataset.shape"
      ],
      "metadata": {
        "colab": {
          "base_uri": "https://localhost:8080/"
        },
        "id": "_DO3sqYlelbm",
        "outputId": "bc375ec1-ca57-4569-9f5d-06eb638efe94"
      },
      "execution_count": 20,
      "outputs": [
        {
          "output_type": "execute_result",
          "data": {
            "text/plain": [
              "(200, 5)"
            ]
          },
          "metadata": {},
          "execution_count": 20
        }
      ]
    },
    {
      "cell_type": "code",
      "source": [
        "dataset.dtypes"
      ],
      "metadata": {
        "colab": {
          "base_uri": "https://localhost:8080/"
        },
        "id": "ZMVDyfngeq4Z",
        "outputId": "43563971-d0f3-4820-bf04-966728aa545f"
      },
      "execution_count": 21,
      "outputs": [
        {
          "output_type": "execute_result",
          "data": {
            "text/plain": [
              "Cus_ID     int64\n",
              "Sex       object\n",
              "Age        int64\n",
              "Income     int64\n",
              "Rating     int64\n",
              "dtype: object"
            ]
          },
          "metadata": {},
          "execution_count": 21
        }
      ]
    },
    {
      "cell_type": "code",
      "source": [
        "X = dataset.iloc[:, [3, 4]].values"
      ],
      "metadata": {
        "id": "USl3Vn8Eeax0"
      },
      "execution_count": 22,
      "outputs": []
    },
    {
      "cell_type": "code",
      "metadata": {
        "colab": {
          "base_uri": "https://localhost:8080/"
        },
        "id": "hXX2ntJqpPDH",
        "outputId": "93806c77-1b59-43fd-a125-4c5ec11819ff"
      },
      "source": [
        "print(X)"
      ],
      "execution_count": 23,
      "outputs": [
        {
          "output_type": "stream",
          "name": "stdout",
          "text": [
            "[[ 306555      44]\n",
            " [ 306555      91]\n",
            " [ 326992       7]\n",
            " [ 326992      87]\n",
            " [ 347429      45]\n",
            " [ 347429      86]\n",
            " [ 367866       7]\n",
            " [ 367866     106]\n",
            " [ 388303       4]\n",
            " [ 388303      81]\n",
            " [ 388303      16]\n",
            " [ 388303     111]\n",
            " [ 408740      17]\n",
            " [ 408740      87]\n",
            " [ 408740      15]\n",
            " [ 408740      89]\n",
            " [ 429177      40]\n",
            " [ 429177      74]\n",
            " [ 470051      33]\n",
            " [ 470051     110]\n",
            " [ 490488      40]\n",
            " [ 490488      82]\n",
            " [ 510925       6]\n",
            " [ 510925      82]\n",
            " [ 572236      16]\n",
            " [ 572236      92]\n",
            " [ 572236      36]\n",
            " [ 572236      69]\n",
            " [ 592673      35]\n",
            " [ 592673      98]\n",
            " [ 613110       5]\n",
            " [ 613110      82]\n",
            " [ 674421       5]\n",
            " [ 674421     104]\n",
            " [ 674421      16]\n",
            " [ 674421      91]\n",
            " [ 694858      20]\n",
            " [ 694858      82]\n",
            " [ 756169      30]\n",
            " [ 756169      84]\n",
            " [ 776606      40]\n",
            " [ 776606     104]\n",
            " [ 797043      41]\n",
            " [ 797043      69]\n",
            " [ 797043      32]\n",
            " [ 797043      73]\n",
            " [ 817480      62]\n",
            " [ 817480      53]\n",
            " [ 817480      48]\n",
            " [ 817480      48]\n",
            " [ 858354      59]\n",
            " [ 858354      68]\n",
            " [ 878791      61]\n",
            " [ 878791      68]\n",
            " [ 878791      51]\n",
            " [ 878791      46]\n",
            " [ 899228      56]\n",
            " [ 899228      52]\n",
            " [ 940102      58]\n",
            " [ 940102      52]\n",
            " [ 940102      63]\n",
            " [ 940102      62]\n",
            " [ 960539      59]\n",
            " [ 960539      67]\n",
            " [ 980976      58]\n",
            " [ 980976      67]\n",
            " [ 980976      56]\n",
            " [ 980976      54]\n",
            " [ 980976      67]\n",
            " [ 980976      53]\n",
            " [1001413      62]\n",
            " [1001413      48]\n",
            " [1021850      55]\n",
            " [1021850      63]\n",
            " [1103598      53]\n",
            " [1103598      61]\n",
            " [1103598      60]\n",
            " [1103598      54]\n",
            " [1103598      59]\n",
            " [1103598      48]\n",
            " [1103598      58]\n",
            " [1103598      62]\n",
            " [1103598      46]\n",
            " [1103598      50]\n",
            " [1103598      64]\n",
            " [1103598      52]\n",
            " [1164909      65]\n",
            " [1164909      62]\n",
            " [1185346      68]\n",
            " [1185346      52]\n",
            " [1205783      62]\n",
            " [1205783      46]\n",
            " [1226220      55]\n",
            " [1226220      45]\n",
            " [1226220      48]\n",
            " [1226220      59]\n",
            " [1226220      53]\n",
            " [1226220      56]\n",
            " [1246657      48]\n",
            " [1246657      55]\n",
            " [1267094      46]\n",
            " [1267094      54]\n",
            " [1267094      67]\n",
            " [1267094      62]\n",
            " [1267094      63]\n",
            " [1267094      48]\n",
            " [1287531      56]\n",
            " [1287531      52]\n",
            " [1287531      49]\n",
            " [1287531      54]\n",
            " [1287531      59]\n",
            " [1287531      61]\n",
            " [1307968      48]\n",
            " [1307968      52]\n",
            " [1328405      54]\n",
            " [1328405      56]\n",
            " [1328405      49]\n",
            " [1328405      67]\n",
            " [1369279      49]\n",
            " [1369279      64]\n",
            " [1369279      63]\n",
            " [1369279      45]\n",
            " [1410153      65]\n",
            " [1410153     102]\n",
            " [1430590      33]\n",
            " [1430590      87]\n",
            " [1451027      40]\n",
            " [1451027     107]\n",
            " [1451027      13]\n",
            " [1451027      84]\n",
            " [1451027      11]\n",
            " [1451027      84]\n",
            " [1471464      39]\n",
            " [1471464      80]\n",
            " [1491901       6]\n",
            " [1491901      99]\n",
            " [1491901       8]\n",
            " [1491901      82]\n",
            " [1512338      12]\n",
            " [1512338      81]\n",
            " [1532775       6]\n",
            " [1532775     105]\n",
            " [1553212      45]\n",
            " [1553212      98]\n",
            " [1573649      14]\n",
            " [1573649     109]\n",
            " [1573649      41]\n",
            " [1573649      83]\n",
            " [1594086      25]\n",
            " [1594086     101]\n",
            " [1594086      20]\n",
            " [1594086      99]\n",
            " [1594086      23]\n",
            " [1594086      86]\n",
            " [1594086      18]\n",
            " [1594086     100]\n",
            " [1594086       2]\n",
            " [1594086      88]\n",
            " [1594086       2]\n",
            " [1594086      82]\n",
            " [1614523      40]\n",
            " [1614523      93]\n",
            " [1655397       6]\n",
            " [1655397     105]\n",
            " [1737145      30]\n",
            " [1737145      84]\n",
            " [1757582      23]\n",
            " [1757582     107]\n",
            " [1778019      31]\n",
            " [1778019      71]\n",
            " [1778019      15]\n",
            " [1778019      84]\n",
            " [1778019      12]\n",
            " [1778019     104]\n",
            " [1798456      15]\n",
            " [1798456      97]\n",
            " [1798456      17]\n",
            " [1798456      78]\n",
            " [1900641      16]\n",
            " [1900641     101]\n",
            " [1982389      36]\n",
            " [1982389      97]\n",
            " [2002826      17]\n",
            " [2002826      99]\n",
            " [2023263      44]\n",
            " [2023263     109]\n",
            " [2064137      27]\n",
            " [2064137      77]\n",
            " [2105011      20]\n",
            " [2105011      96]\n",
            " [2105011      26]\n",
            " [2105011      78]\n",
            " [2309381       9]\n",
            " [2309381     102]\n",
            " [2452440      18]\n",
            " [2452440      89]\n",
            " [2575062      32]\n",
            " [2575062      83]\n",
            " [2799869      21]\n",
            " [2799869      93]]\n"
          ]
        }
      ]
    },
    {
      "cell_type": "markdown",
      "metadata": {
        "id": "8REFJFGC0lRN"
      },
      "source": [
        "## Optimal number of clusters via Elbow Method"
      ]
    },
    {
      "cell_type": "code",
      "metadata": {
        "colab": {
          "base_uri": "https://localhost:8080/",
          "height": 472
        },
        "id": "M2aNSjOekRQX",
        "outputId": "d11a8d5f-cd1f-4a88-9bc9-1bc8d750bbbf"
      },
      "source": [
        "from sklearn.cluster import KMeans\n",
        "wcss = []\n",
        "\n",
        "for i in range(1,11):\n",
        "  kmeans = KMeans(n_clusters= i, init= 'k-means++',n_init='auto', random_state = 21)\n",
        "  kmeans.fit(X)\n",
        "  wcss.append(kmeans.inertia_)\n",
        "\n",
        "plt.plot(range(1,11), wcss)\n",
        "plt.title('WCSS via Elbow method')\n",
        "plt.xlabel('Number of clusters')\n",
        "plt.ylabel('WCSS Value')\n",
        "\n",
        "plt.show()"
      ],
      "execution_count": 24,
      "outputs": [
        {
          "output_type": "display_data",
          "data": {
            "text/plain": [
              "<Figure size 640x480 with 1 Axes>"
            ],
            "image/png": "[encoded data removed]"
          },
          "metadata": {}
        }
      ]
    },
    {
      "cell_type": "markdown",
      "metadata": {
        "id": "2QUFYaoH00H6"
      },
      "source": [
        "## K Means Model Training on Training set"
      ]
    },
    {
      "cell_type": "code",
      "metadata": {
        "id": "ZIRwgaygmGJf"
      },
      "source": [
        "kmeans = KMeans(n_clusters = 4, init = 'k-means++',n_init='auto', random_state = 42)\n",
        "y_means = kmeans.fit_predict(X)"
      ],
      "execution_count": 25,
      "outputs": []
    },
    {
      "cell_type": "code",
      "metadata": {
        "colab": {
          "base_uri": "https://localhost:8080/"
        },
        "id": "WgIKbEMwndad",
        "outputId": "f014fb1f-5b2b-4576-fb65-0f265317b763"
      },
      "source": [
        "print(y_means)"
      ],
      "execution_count": 26,
      "outputs": [
        {
          "output_type": "stream",
          "name": "stdout",
          "text": [
            "[1 1 1 1 1 1 1 1 1 1 1 1 1 1 1 1 1 1 1 1 1 1 1 1 1 1 1 1 1 1 1 1 1 1 1 1 1\n",
            " 1 3 3 3 3 3 3 3 3 3 3 3 3 3 3 3 3 3 3 3 3 3 3 3 3 3 3 3 3 3 3 3 3 3 3 3 3\n",
            " 3 3 3 3 3 3 3 3 3 3 3 3 3 3 3 3 0 0 0 0 0 0 0 0 0 0 0 0 0 0 0 0 0 0 0 0 0\n",
            " 0 0 0 0 0 0 0 0 0 0 0 0 0 0 0 0 0 0 0 0 0 0 0 0 0 0 0 0 0 0 0 0 0 0 0 0 0\n",
            " 0 0 0 0 0 0 0 0 0 0 0 0 0 0 0 0 2 2 2 2 2 2 2 2 2 2 2 2 2 2 2 2 2 2 2 2 2\n",
            " 2 2 2 2 2 2 2 2 2 2 2 2 2 2 2]\n"
          ]
        }
      ]
    },
    {
      "cell_type": "markdown",
      "metadata": {
        "id": "-Dw4Khi70u9g"
      },
      "source": [
        "## Visualizing Clusters"
      ]
    },
    {
      "cell_type": "code",
      "metadata": {
        "colab": {
          "base_uri": "https://localhost:8080/",
          "height": 472
        },
        "id": "1dsBLag_nCuU",
        "outputId": "44bfe195-75a6-4f9b-e09a-faabf4a00cc1"
      },
      "source": [
        "plt.scatter(X[y_means == 0, 0], X[y_means == 0, 1], s = 100, c = 'magenta', label = 'Cluster 1')\n",
        "plt.scatter(X[y_means == 1, 0], X[y_means == 1, 1], s = 100, c = 'blue', label = 'Cluster 2')\n",
        "plt.scatter(X[y_means == 2, 0], X[y_means == 2, 1], s = 100, c = 'red', label = 'Cluster 3')\n",
        "plt.scatter(X[y_means == 3, 0], X[y_means == 3, 1], s = 100, c = 'cyan', label = 'Cluster 4')\n",
        "plt.scatter(kmeans.cluster_centers_[:, 0], kmeans.cluster_centers_[:, 1], s = 300, c = 'black', label = 'Centroids')\n",
        "plt.title('Cluster of Amazon users')\n",
        "plt.xlabel('Age')\n",
        "plt.ylabel('Purchase Rating')\n",
        "plt.legend()\n",
        "plt.show()"
      ],
      "execution_count": 27,
      "outputs": [
        {
          "output_type": "display_data",
          "data": {
            "text/plain": [
              "<Figure size 640x480 with 1 Axes>"
            ],
            "image/png": "[encoded data removed]"
          },
          "metadata": {}
        }
      ]
    }
  ]
}